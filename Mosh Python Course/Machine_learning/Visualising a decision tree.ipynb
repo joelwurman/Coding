{
 "cells": [
  {
   "cell_type": "code",
   "execution_count": 10,
   "metadata": {},
   "outputs": [],
   "source": [
    "import pandas as pd\n",
    "from sklearn.tree import DecisionTreeClassifier\n",
    "from sklearn import tree\n",
    "\n",
    "#import data_set\n",
    "music_data = pd.read_csv('music.csv')\n",
    "X = music_data.drop(columns=['genre'])\n",
    "y = music_data['genre']\n",
    "\n",
    "#create a model\n",
    "model = DecisionTreeClassifier()\n",
    "\n",
    "#train the model\n",
    "model.fit(X, y)\n",
    "\n",
    "#make the desition tree (visible on PyCharm)\n",
    "tree.export_graphviz(model, out_file='music-recommender.dot',\n",
    "                     feature_names=['age', 'gender'], #displays the rules in each note\n",
    "                     class_names=sorted(y.unique()), #displays the class for each note\n",
    "                     label='all', #each note has lables that we can read\n",
    "                     rounded=True, #all notes have rounded cornere\n",
    "                     filled=True) #each note box is filled with a colour\n"
   ]
  },
  {
   "cell_type": "code",
   "execution_count": null,
   "metadata": {},
   "outputs": [],
   "source": []
  }
 ],
 "metadata": {
  "kernelspec": {
   "display_name": "Python 3",
   "language": "python",
   "name": "python3"
  },
  "language_info": {
   "codemirror_mode": {
    "name": "ipython",
    "version": 3
   },
   "file_extension": ".py",
   "mimetype": "text/x-python",
   "name": "python",
   "nbconvert_exporter": "python",
   "pygments_lexer": "ipython3",
   "version": "3.8.1"
  }
 },
 "nbformat": 4,
 "nbformat_minor": 4
}
