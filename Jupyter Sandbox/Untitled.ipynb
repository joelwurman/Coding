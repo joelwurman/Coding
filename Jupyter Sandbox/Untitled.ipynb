{
 "cells": [
  {
   "cell_type": "code",
   "execution_count": 3,
   "metadata": {},
   "outputs": [
    {
     "name": "stdout",
     "output_type": "stream",
     "text": [
      "[1. 1.]\n"
     ]
    },
    {
     "name": "stderr",
     "output_type": "stream",
     "text": [
      "/opt/anaconda3/lib/python3.7/site-packages/scipy/optimize/minpack.py:808: OptimizeWarning: Covariance of the parameters could not be estimated\n",
      "  category=OptimizeWarning)\n"
     ]
    },
    {
     "data": {
      "image/png": "[encoded data removed]",
      "text/plain": [
       "<Figure size 432x288 with 1 Axes>"
      ]
     },
     "metadata": {
      "needs_background": "light"
     },
     "output_type": "display_data"
    }
   ],
   "source": [
    "import numpy as np\n",
    "import pylab\n",
    "from scipy.optimize import curve_fit\n",
    "\n",
    "# def sigmoid(x, a, b):\n",
    "#      y = 1 / (1 + np.exp(-b*(x-a)))\n",
    "#      return y\n",
    "def fsigmoid(x, a, b):\n",
    "    return 1.0 / (1.0 + np.exp(-a*(x-b)))\n",
    "\n",
    "popt, pcov = curve_fit(fsigmoid, xdata, ydata, method='dogbox', bounds=([0., 600.],[0.01, 1200.]))\n",
    "\n",
    "xdata = np.array([400, 600, 800, 1000, 1200, 1400, 1600])\n",
    "ydata = np.array([0, 0, 0.13, 0.35, 0.75, 0.89, 0.91])\n",
    "\n",
    "popt, pcov = curve_fit(sigmoid, xdata, ydata)\n",
    "print(popt)\n",
    "\n",
    "x = np.linspace(-1, 2000, 50)\n",
    "y = sigmoid(x, *popt)\n",
    "\n",
    "pylab.plot(xdata, ydata, 'o', label='data')\n",
    "pylab.plot(x,y, label='fit')\n",
    "pylab.ylim(0, 1.05)\n",
    "pylab.legend(loc='best')\n",
    "pylab.show()"
   ]
  },
  {
   "cell_type": "code",
   "execution_count": null,
   "metadata": {},
   "outputs": [],
   "source": []
  }
 ],
 "metadata": {
  "kernelspec": {
   "display_name": "Python 3",
   "language": "python",
   "name": "python3"
  },
  "language_info": {
   "codemirror_mode": {
    "name": "ipython",
    "version": 3
   },
   "file_extension": ".py",
   "mimetype": "text/x-python",
   "name": "python",
   "nbconvert_exporter": "python",
   "pygments_lexer": "ipython3",
   "version": "3.7.6"
  }
 },
 "nbformat": 4,
 "nbformat_minor": 4
}
